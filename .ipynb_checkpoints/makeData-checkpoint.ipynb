{
 "metadata": {
  "name": "",
  "signature": "sha256:d64e4f08b5bc4b6f05db3f0c57d2f608975c92bdd63c2c625b5ca670cd7728b3"
 },
 "nbformat": 3,
 "nbformat_minor": 0,
 "worksheets": [
  {
   "cells": [
    {
     "cell_type": "code",
     "collapsed": false,
     "input": [
      "%pylab inline"
     ],
     "language": "python",
     "metadata": {},
     "outputs": [
      {
       "output_type": "stream",
       "stream": "stdout",
       "text": [
        "Populating the interactive namespace from numpy and matplotlib\n"
       ]
      },
      {
       "output_type": "stream",
       "stream": "stderr",
       "text": [
        "WARNING: pylab import has clobbered these variables: ['f']\n",
        "`%matplotlib` prevents importing * from pylab and numpy\n"
       ]
      }
     ],
     "prompt_number": 2
    },
    {
     "cell_type": "code",
     "collapsed": false,
     "input": [
      "x = [2,\"Geography\",\"GHI University\",\"2015-04-16\",3.0]"
     ],
     "language": "python",
     "metadata": {},
     "outputs": [],
     "prompt_number": 1
    },
    {
     "cell_type": "code",
     "collapsed": false,
     "input": [
      "classes = [\"Geography\", \"Math\",\"Science\", \"Latin\",\"English\", \"Psychology\", \"Art\", \"Music\", \"History\"]\n",
      "schools = [\"ABC\",\"DEF\",\"GHI\",\"JKL\",\"MNO\", \"XYZ\"]\n"
     ],
     "language": "python",
     "metadata": {},
     "outputs": [],
     "prompt_number": 2
    },
    {
     "cell_type": "code",
     "collapsed": false,
     "input": [
      "f = open('tests/big4.csv','w')\n",
      "def makeData(seed):\n",
      "    classes = [\"Geography\", \"Math\",\"Science\", \"Latin\",\"English\", \"Psychology\", \"Art\", \"Music\", \"History\"]\n",
      "    schools = [\"ABC\",\"DEF\",\"GHI\",\"JKL\",\"MNO\", \"XYZ\"]\n",
      "\n",
      "    mu = seed%100 + 30\n",
      "    score = normal(mu, mu/7)\n",
      "    if(score>100):\n",
      "        diff = score-100\n",
      "        score = 100 - diff\n",
      "    if(score < 0):\n",
      "        score = -score\n",
      "    school = schools[randint(len(schools))]\n",
      "    course = classes[randint(len(classes))]\n",
      "    f.write(\"{0},{1},{2},{3},{4}\\n\".format(seed,course, school +\" University\", \"2015-04-31\", round(score)))\n",
      " \n",
      "for i in range(2000):\n",
      "    makeData(randint(120))\n",
      "f.close()"
     ],
     "language": "python",
     "metadata": {},
     "outputs": [],
     "prompt_number": 6
    },
    {
     "cell_type": "code",
     "collapsed": false,
     "input": [],
     "language": "python",
     "metadata": {},
     "outputs": []
    }
   ],
   "metadata": {}
  }
 ]
}