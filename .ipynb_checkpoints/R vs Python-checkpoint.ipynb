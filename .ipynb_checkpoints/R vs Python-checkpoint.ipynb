{
 "metadata": {
  "name": "",
  "signature": "sha256:cae20ea3970fc5af3bccb09deff0edbdcabc9420f6377ad55bdca83a56bef922"
 },
 "nbformat": 3,
 "nbformat_minor": 0,
 "worksheets": [
  {
   "cells": [
    {
     "cell_type": "code",
     "collapsed": false,
     "input": [
      "%pylab inline"
     ],
     "language": "python",
     "metadata": {},
     "outputs": [
      {
       "output_type": "stream",
       "stream": "stdout",
       "text": [
        "Populating the interactive namespace from numpy and matplotlib\n"
       ]
      }
     ],
     "prompt_number": 2
    },
    {
     "cell_type": "code",
     "collapsed": false,
     "input": [
      "sample = \"\"\" 72 35 28 97 96\"\"\"\n",
      "sample = [int(i) for i in sample.split()]\n",
      "sample = sorted(sample)"
     ],
     "language": "python",
     "metadata": {},
     "outputs": [],
     "prompt_number": 3
    },
    {
     "cell_type": "code",
     "collapsed": false,
     "input": [
      "from statsmodels.distributions.empirical_distribution import ECDF\n",
      "ecdf = ECDF(sample)\n",
      "ylim(0,1)\n",
      "plt.step(ecdf.x, ecdf.y);"
     ],
     "language": "python",
     "metadata": {},
     "outputs": [
      {
       "metadata": {},
       "output_type": "display_data",
       "png": "[encoded data removed]",
       "text": [
        "<matplotlib.figure.Figure at 0xad5ca5ec>"
       ]
      }
     ],
     "prompt_number": 5
    },
    {
     "cell_type": "code",
     "collapsed": false,
     "input": [
      "%load_ext rpy2.ipython"
     ],
     "language": "python",
     "metadata": {},
     "outputs": [],
     "prompt_number": 6
    },
    {
     "cell_type": "code",
     "collapsed": false,
     "input": [
      "%%R\n",
      "sample <- c(72,35,28,97,96)\n",
      "z <- ecdf(sample)\n",
      "plot(z)"
     ],
     "language": "python",
     "metadata": {},
     "outputs": [
      {
       "metadata": {},
       "output_type": "display_data",
       "png": "[encoded data removed]"
      }
     ],
     "prompt_number": 7
    },
    {
     "cell_type": "code",
     "collapsed": false,
     "input": [
      "x = linspace(0,1,100, endpoint = False)\n",
      "n = len(sample)\n",
      "z = (list(map(int,n*x)))\n",
      "p = [sample[i] for i in z]\n",
      "plt.step(p,x);"
     ],
     "language": "python",
     "metadata": {},
     "outputs": [
      {
       "metadata": {},
       "output_type": "display_data",
       "png": "[encoded data removed]",
       "text": [
        "<matplotlib.figure.Figure at 0xa9b84c6c>"
       ]
      }
     ],
     "prompt_number": 8
    },
    {
     "cell_type": "code",
     "collapsed": false,
     "input": [
      "import pandas as pd\n",
      "df = pd.read_csv(\"test_data/big1.csv\",  names = ['student_id', 'course','university','date', 'score'])\n",
      "abc = df[df['university'] == \"ABC University\"]\n",
      "m = abc.groupby(\"student_id\").mean()\n",
      "for i in range(100):\n",
      "    if(i<5 or i>95):\n",
      "        print(i, percentile(m,i+1, interpolation='lower')) #note, requires numpy version 1.9.0 or higher\n",
      "        "
     ],
     "language": "python",
     "metadata": {},
     "outputs": [
      {
       "output_type": "stream",
       "stream": "stdout",
       "text": [
        "0 28.0\n",
        "1 28.6666666667\n",
        "2 29.5\n",
        "3 30.25\n",
        "4 30.3333333333\n",
        "96 95.0\n",
        "97 97.0\n",
        "98 98.0\n",
        "99 99.0\n"
       ]
      }
     ],
     "prompt_number": 9
    },
    {
     "cell_type": "code",
     "collapsed": false,
     "input": [
      "for i in range(100):\n",
      "    if(i<5 or i>95):\n",
      "        print(i, percentile(m,i, interpolation='lower'))"
     ],
     "language": "python",
     "metadata": {},
     "outputs": [
      {
       "output_type": "stream",
       "stream": "stdout",
       "text": [
        "0 23.25\n",
        "1 28.0\n",
        "2 28.6666666667\n",
        "3 29.5\n",
        "4 30.25\n",
        "96 94.5\n",
        "97 95.0\n",
        "98 97.0\n",
        "99 98.0\n"
       ]
      }
     ],
     "prompt_number": 10
    }
   ],
   "metadata": {}
  }
 ]
}