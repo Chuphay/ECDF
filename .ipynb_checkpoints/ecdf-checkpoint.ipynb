{
 "metadata": {
  "name": "",
  "signature": "sha256:50d9f7a3f84cfe09bdf624df10328fe6260aea8246ff297be4dc2f795ce0da59"
 },
 "nbformat": 3,
 "nbformat_minor": 0,
 "worksheets": [
  {
   "cells": [
    {
     "cell_type": "code",
     "collapsed": false,
     "input": [
      "%pylab inline"
     ],
     "language": "python",
     "metadata": {},
     "outputs": [
      {
       "output_type": "stream",
       "stream": "stdout",
       "text": [
        "Populating the interactive namespace from numpy and matplotlib\n"
       ]
      }
     ],
     "prompt_number": 1
    },
    {
     "cell_type": "code",
     "collapsed": false,
     "input": [
      "import pandas as pd"
     ],
     "language": "python",
     "metadata": {},
     "outputs": [],
     "prompt_number": 2
    },
    {
     "cell_type": "code",
     "collapsed": false,
     "input": [
      "df = pd.read_csv(\"tests/big1.csv\",  names = ['student_id', 'course','university','date', 'score'])\n",
      "df[:10]"
     ],
     "language": "python",
     "metadata": {},
     "outputs": [
      {
       "html": [
        "<div style=\"max-height:1000px;max-width:1500px;overflow:auto;\">\n",
        "<table border=\"1\" class=\"dataframe\">\n",
        "  <thead>\n",
        "    <tr style=\"text-align: right;\">\n",
        "      <th></th>\n",
        "      <th>student_id</th>\n",
        "      <th>course</th>\n",
        "      <th>university</th>\n",
        "      <th>date</th>\n",
        "      <th>score</th>\n",
        "    </tr>\n",
        "  </thead>\n",
        "  <tbody>\n",
        "    <tr>\n",
        "      <th>0</th>\n",
        "      <td>   0</td>\n",
        "      <td> Psychology</td>\n",
        "      <td> XYZ University</td>\n",
        "      <td> 2015-04-31</td>\n",
        "      <td>  34</td>\n",
        "    </tr>\n",
        "    <tr>\n",
        "      <th>1</th>\n",
        "      <td>  89</td>\n",
        "      <td>    Science</td>\n",
        "      <td> GHI University</td>\n",
        "      <td> 2015-04-31</td>\n",
        "      <td>  84</td>\n",
        "    </tr>\n",
        "    <tr>\n",
        "      <th>2</th>\n",
        "      <td>  36</td>\n",
        "      <td>       Math</td>\n",
        "      <td> MNO University</td>\n",
        "      <td> 2015-04-31</td>\n",
        "      <td>  64</td>\n",
        "    </tr>\n",
        "    <tr>\n",
        "      <th>3</th>\n",
        "      <td> 109</td>\n",
        "      <td> Psychology</td>\n",
        "      <td> GHI University</td>\n",
        "      <td> 2015-04-31</td>\n",
        "      <td>  42</td>\n",
        "    </tr>\n",
        "    <tr>\n",
        "      <th>4</th>\n",
        "      <td>  61</td>\n",
        "      <td>        Art</td>\n",
        "      <td> JKL University</td>\n",
        "      <td> 2015-04-31</td>\n",
        "      <td>  94</td>\n",
        "    </tr>\n",
        "    <tr>\n",
        "      <th>5</th>\n",
        "      <td>  84</td>\n",
        "      <td>  Geography</td>\n",
        "      <td> DEF University</td>\n",
        "      <td> 2015-04-31</td>\n",
        "      <td> 100</td>\n",
        "    </tr>\n",
        "    <tr>\n",
        "      <th>6</th>\n",
        "      <td>   6</td>\n",
        "      <td> Psychology</td>\n",
        "      <td> JKL University</td>\n",
        "      <td> 2015-04-31</td>\n",
        "      <td>  34</td>\n",
        "    </tr>\n",
        "    <tr>\n",
        "      <th>7</th>\n",
        "      <td>  75</td>\n",
        "      <td>  Geography</td>\n",
        "      <td> GHI University</td>\n",
        "      <td> 2015-04-31</td>\n",
        "      <td>  83</td>\n",
        "    </tr>\n",
        "    <tr>\n",
        "      <th>8</th>\n",
        "      <td> 112</td>\n",
        "      <td>    History</td>\n",
        "      <td> ABC University</td>\n",
        "      <td> 2015-04-31</td>\n",
        "      <td>  43</td>\n",
        "    </tr>\n",
        "    <tr>\n",
        "      <th>9</th>\n",
        "      <td>  88</td>\n",
        "      <td> Psychology</td>\n",
        "      <td> JKL University</td>\n",
        "      <td> 2015-04-31</td>\n",
        "      <td>  89</td>\n",
        "    </tr>\n",
        "  </tbody>\n",
        "</table>\n",
        "</div>"
       ],
       "metadata": {},
       "output_type": "pyout",
       "prompt_number": 3,
       "text": [
        "   student_id      course      university        date  score\n",
        "0           0  Psychology  XYZ University  2015-04-31     34\n",
        "1          89     Science  GHI University  2015-04-31     84\n",
        "2          36        Math  MNO University  2015-04-31     64\n",
        "3         109  Psychology  GHI University  2015-04-31     42\n",
        "4          61         Art  JKL University  2015-04-31     94\n",
        "5          84   Geography  DEF University  2015-04-31    100\n",
        "6           6  Psychology  JKL University  2015-04-31     34\n",
        "7          75   Geography  GHI University  2015-04-31     83\n",
        "8         112     History  ABC University  2015-04-31     43\n",
        "9          88  Psychology  JKL University  2015-04-31     89"
       ]
      }
     ],
     "prompt_number": 3
    },
    {
     "cell_type": "code",
     "collapsed": false,
     "input": [
      "for i in range(2,5):\n",
      "    df_temp = pd.read_csv(\"tests/big{0}.csv\".format(i),  names = ['student_id', 'course','university','date', 'score'])\n",
      "    df = df.append(df_temp)\n",
      "len(df)"
     ],
     "language": "python",
     "metadata": {},
     "outputs": [
      {
       "metadata": {},
       "output_type": "pyout",
       "prompt_number": 4,
       "text": [
        "8000"
       ]
      }
     ],
     "prompt_number": 4
    },
    {
     "cell_type": "code",
     "collapsed": false,
     "input": [
      "abc = df[df['university'] == \"ABC University\"]\n",
      "m = abc.groupby(\"student_id\").mean()\n",
      "m.describe()"
     ],
     "language": "python",
     "metadata": {},
     "outputs": [
      {
       "html": [
        "<div style=\"max-height:1000px;max-width:1500px;overflow:auto;\">\n",
        "<table border=\"1\" class=\"dataframe\">\n",
        "  <thead>\n",
        "    <tr style=\"text-align: right;\">\n",
        "      <th></th>\n",
        "      <th>score</th>\n",
        "    </tr>\n",
        "  </thead>\n",
        "  <tbody>\n",
        "    <tr>\n",
        "      <th>count</th>\n",
        "      <td> 120.000000</td>\n",
        "    </tr>\n",
        "    <tr>\n",
        "      <th>mean</th>\n",
        "      <td>  64.247687</td>\n",
        "    </tr>\n",
        "    <tr>\n",
        "      <th>std</th>\n",
        "      <td>  20.459821</td>\n",
        "    </tr>\n",
        "    <tr>\n",
        "      <th>min</th>\n",
        "      <td>  28.076923</td>\n",
        "    </tr>\n",
        "    <tr>\n",
        "      <th>25%</th>\n",
        "      <td>  43.701923</td>\n",
        "    </tr>\n",
        "    <tr>\n",
        "      <th>50%</th>\n",
        "      <td>  67.247863</td>\n",
        "    </tr>\n",
        "    <tr>\n",
        "      <th>75%</th>\n",
        "      <td>  83.342857</td>\n",
        "    </tr>\n",
        "    <tr>\n",
        "      <th>max</th>\n",
        "      <td>  94.250000</td>\n",
        "    </tr>\n",
        "  </tbody>\n",
        "</table>\n",
        "</div>"
       ],
       "metadata": {},
       "output_type": "pyout",
       "prompt_number": 5,
       "text": [
        "            score\n",
        "count  120.000000\n",
        "mean    64.247687\n",
        "std     20.459821\n",
        "min     28.076923\n",
        "25%     43.701923\n",
        "50%     67.247863\n",
        "75%     83.342857\n",
        "max     94.250000"
       ]
      }
     ],
     "prompt_number": 5
    },
    {
     "cell_type": "code",
     "collapsed": false,
     "input": [
      "from statsmodels.distributions.empirical_distribution import ECDF\n",
      "ecdf = ECDF(m['score'].values)\n",
      "plt.step(ecdf.x, ecdf.y);"
     ],
     "language": "python",
     "metadata": {},
     "outputs": [
      {
       "metadata": {},
       "output_type": "display_data",
       "png": "[encoded data removed]",
       "text": [
        "<matplotlib.figure.Figure at 0xadbb724c>"
       ]
      }
     ],
     "prompt_number": 6
    }
   ],
   "metadata": {}
  }
 ]
}