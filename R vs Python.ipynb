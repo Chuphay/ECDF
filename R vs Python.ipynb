{
 "metadata": {
  "name": "",
  "signature": "sha256:8a707c2c2346fed5c0a833393254dff2230e1cf4c105660e5dac8d082934cc9e"
 },
 "nbformat": 3,
 "nbformat_minor": 0,
 "worksheets": [
  {
   "cells": [
    {
     "cell_type": "code",
     "collapsed": false,
     "input": [
      "%pylab inline\n",
      "%load_ext rpy2.ipython\n",
      "import pandas as pd"
     ],
     "language": "python",
     "metadata": {},
     "outputs": [
      {
       "output_type": "stream",
       "stream": "stdout",
       "text": [
        "Populating the interactive namespace from numpy and matplotlib\n"
       ]
      }
     ],
     "prompt_number": 1
    },
    {
     "cell_type": "code",
     "collapsed": false,
     "input": [
      "df = pd.read_csv(\"test_data/big1.csv\",  names = ['student_id', 'course','university','date', 'score'])\n",
      "for i in range(2,5):\n",
      "    df_temp = pd.read_csv(\"test_data/big{0}.csv\".format(i),  names = ['student_id', 'course','university','date', 'score'])\n",
      "    df = df.append(df_temp)\n",
      "abc = df[df['university'] == \"ABC University\"]    \n",
      "m = abc.groupby(\"student_id\").mean()"
     ],
     "language": "python",
     "metadata": {},
     "outputs": [],
     "prompt_number": 2
    },
    {
     "cell_type": "code",
     "collapsed": false,
     "input": [
      "for i in range(101):\n",
      "    if(i<5 or i>95):\n",
      "        print(i,'\\t', percentile(m,i, interpolation='lower'),'\\t\\t', percentile(m,i, interpolation='higher'))"
     ],
     "language": "python",
     "metadata": {},
     "outputs": [
      {
       "output_type": "stream",
       "stream": "stdout",
       "text": [
        "0 \t 28.0769230769 \t\t 28.0769230769\n",
        "1 \t 29.75 \t\t 29.8333333333\n",
        "2 \t 29.8333333333 \t\t 30.8888888889\n",
        "3 \t 30.8888888889 \t\t 31.3636363636\n",
        "4 \t 31.3636363636 \t\t 32.9090909091\n",
        "96 \t 90.3125 \t\t 90.4285714286\n",
        "97 \t 90.4285714286 \t\t 90.6\n",
        "98 \t 90.6 \t\t 91.1818181818\n",
        "99 \t 91.1818181818 \t\t 91.4444444444\n",
        "100 \t 94.25 \t\t 94.25\n"
       ]
      }
     ],
     "prompt_number": 3
    },
    {
     "cell_type": "code",
     "collapsed": false,
     "input": [
      "%%R -i m\n",
      "quantile(m$'score', c(0,0.01,0.02,0.03,0.04,0.96,0.97,0.98,0.99,1),type = 1) "
     ],
     "language": "python",
     "metadata": {},
     "outputs": [
      {
       "metadata": {},
       "output_type": "display_data",
       "text": [
        "      0%       1%       2%       3%       4%      96%      97%      98% \n",
        "28.07692 29.75000 29.83333 30.88889 31.36364 90.42857 90.60000 91.18182 \n",
        "     99%     100% \n",
        "91.44444 94.25000 \n"
       ]
      }
     ],
     "prompt_number": 4
    },
    {
     "cell_type": "code",
     "collapsed": false,
     "input": [
      "from ecdf import *\n",
      "school, files = parseArg([\"ecdf.py\",\"--school\",\"ABC University\",\"test_data/big1.csv\",\"test_data/big2.csv\",\"test_data/big3.csv\",\"test_data/big4.csv\"])\n",
      "data = getData(school, files)\n",
      "\n",
      "for i in range(101):\n",
      "    if(i<5 or i>95):\n",
      "        spot = int((i*(len(data)))/100)\n",
      "        try:\n",
      "            print(i,'\\t', np.percentile(m['score'],i,interpolation = 'higher'),'\\t\\t',data[spot],spot) \n",
      "        except IndexError:\n",
      "            print(i,'\\t', np.percentile(m['score'],i,interpolation = 'higher'),'\\t\\t',data[-1],spot) \n"
     ],
     "language": "python",
     "metadata": {},
     "outputs": [
      {
       "output_type": "stream",
       "stream": "stdout",
       "text": [
        "0 \t 28.0769230769 \t\t 28.076923076923077 0\n",
        "1 \t 29.8333333333 \t\t 29.75 1\n",
        "2 \t 30.8888888889 \t\t 29.833333333333332 2\n",
        "3 \t 31.3636363636 \t\t 30.88888888888889 3\n",
        "4 \t 32.9090909091 \t\t 31.363636363636363 4\n",
        "96 \t 90.4285714286 \t\t 90.42857142857143 115\n",
        "97 \t 90.6 \t\t 90.6 116\n",
        "98 \t 91.1818181818 \t\t 91.18181818181819 117\n",
        "99 \t 91.4444444444 \t\t 91.44444444444444 118\n",
        "100 \t 94.25 \t\t 94.25 120\n"
       ]
      }
     ],
     "prompt_number": 5
    }
   ],
   "metadata": {}
  }
 ]
}